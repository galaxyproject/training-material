{
 "cells": [
  {
   "cell_type": "markdown",
   "metadata": {
    "nbgrader": {
     "grade": false,
     "grade_id": "3b677b",
     "locked": true,
     "schema_version": 3,
     "solution": false,
     "task": false
    }
   },
   "source": [
    "Let's write a simple FASTQ trimmer, so you get a bit more experience processing things with loops. This will be a bit more involved of an exercise, so, beware! ;)\n",
    "\n",
    "**Input**: A path to a fastq file. You'll need to read this file in fastq file has been read in for you in the first cell (since you haven't learned to read files yet).\n",
    "\n",
    "**Output**: A trimmed fastq file written out at the specified step, returning the statistics of how many reads were removed at each step.\n",
    "\n",
    "You'll need to write a couple filters, each of these will then be put together at the end to build a full trimmer.\n",
    "This is a *multistep problem!*"
   ]
  },
  {
   "cell_type": "code",
   "execution_count": 1,
   "metadata": {
    "nbgrader": {
     "grade": false,
     "grade_id": "f1c694",
     "locked": false,
     "schema_version": 3,
     "solution": true,
     "task": false
    }
   },
   "outputs": [],
   "source": [
    "def mean(numbers):\n",
    "    \"\"\"\n",
    "    Compute the average value of a provided list of numbers. Hint: copy and paste from QC ;)\n",
    "    \n",
    "    returns: float, the mean value\n",
    "    \"\"\"\n",
    "    ### BEGIN SOLUTION\n",
    "    # Put correct code here.  This code is removed for the student version, but is used\n",
    "    # to confirm that your tests are valid.\n",
    "    return sum(numbers) / len(numbers)\n",
    "    ### END SOLUTION"
   ]
  },
  {
   "cell_type": "code",
   "execution_count": 2,
   "metadata": {
    "nbgrader": {
     "grade": true,
     "grade_id": "e1c851",
     "locked": true,
     "points": 1,
     "schema_version": 3,
     "solution": false,
     "task": false
    }
   },
   "outputs": [
    {
     "name": "stdout",
     "output_type": "stream",
     "text": [
      "Succes!\n"
     ]
    }
   ],
   "source": [
    "from nose.tools import assert_equal\n",
    "assert_equal(mean([1, 1, 1]), 1)\n",
    "assert_equal(mean([1, 2, 3]), 2)\n",
    "assert_equal(mean([-10, 10]), 0)\n",
    "### BEGIN HIDDEN TESTS\n",
    "# students will NOT see these extra tests\n",
    "# Meh.\n",
    "assert_equal(mean([1000, 2000, 3000]), 2000)\n",
    "### END HIDDEN TESTS\n",
    "print(\"Succes!\")"
   ]
  },
  {
   "cell_type": "code",
   "execution_count": 3,
   "metadata": {
    "nbgrader": {
     "grade": false,
     "grade_id": "452e29",
     "locked": false,
     "schema_version": 3,
     "solution": true,
     "task": false
    }
   },
   "outputs": [],
   "source": [
    "def remove_too_short(read_id, sequence, quality, length=30):\n",
    "    \"\"\"\n",
    "    Remove a read that is shorter than the specified length parameter\n",
    "\n",
    "    read_id: string with the read ID\n",
    "    sequence: DNA sequence\n",
    "    quality: list of ints, with the quality score of each base.\n",
    "    length: integer definining the minimum acceptable length, nothing shorter than this should be allowed.\n",
    "\n",
    "    returns: true if the read should be kept, false if it should be dropped.\n",
    "    \"\"\"\n",
    "    ### BEGIN SOLUTION\n",
    "    # Put correct code here.  This code is removed for the student version, but is used\n",
    "    # to confirm that your tests are valid.\n",
    "    return len(sequence) >= length\n",
    "    ### END SOLUTION"
   ]
  },
  {
   "cell_type": "code",
   "execution_count": 0,
   "metadata": {},
   "outputs": [],
   "source": []
  },
  {
   "cell_type": "code",
   "execution_count": 4,
   "metadata": {
    "nbgrader": {
     "grade": true,
     "grade_id": "5158b0",
     "locked": true,
     "points": 1,
     "schema_version": 3,
     "solution": false,
     "task": false
    }
   },
   "outputs": [
    {
     "name": "stdout",
     "output_type": "stream",
     "text": [
      "Succes!\n"
     ]
    }
   ],
   "source": [
    "from nose.tools import assert_equal\n",
    "assert_equal(remove_too_short(\"x\", \"aaccttgg\", [1,2,3,4,5,6,7,8], length=30), False)\n",
    "assert_equal(remove_too_short(\"x\", \"aaccttgg\", [1,2,3,4,5,6,7,8], length=6), True)\n",
    "print(\"Succes!\")"
   ]
  },
  {
   "cell_type": "code",
   "execution_count": 5,
   "metadata": {
    "nbgrader": {
     "grade": false,
     "grade_id": "b8517a",
     "locked": false,
     "schema_version": 3,
     "solution": true,
     "task": false
    }
   },
   "outputs": [],
   "source": [
    "def remove_bad_quality(read_id, sequence, quality, score=20):\n",
    "    \"\"\"\n",
    "    Check for sequences with low mean quality, if the mean quality is too low, return False. Otherwise True.\n",
    "    \n",
    "    read_id: string with the read ID\n",
    "    sequence: DNA sequence\n",
    "    quality: list of ints, with the quality score of each base.\n",
    "    score: Minimum acceptable quality score across the entire read.\n",
    "    \n",
    "    returns: Boolean, true if the read should be kept, false if it should be dropped.\n",
    "    \"\"\"\n",
    "    ### BEGIN SOLUTION\n",
    "    # Put correct code here.  This code is removed for the student version, but is used\n",
    "    # to confirm that your tests are valid.\n",
    "    return mean(quality) >= score\n",
    "    ### END SOLUTION"
   ]
  },
  {
   "cell_type": "code",
   "execution_count": 6,
   "metadata": {
    "nbgrader": {
     "grade": true,
     "grade_id": "09a149",
     "locked": true,
     "points": 1,
     "schema_version": 3,
     "solution": false,
     "task": false
    }
   },
   "outputs": [],
   "source": [
    "from nose.tools import assert_equal\n",
    "assert_equal(remove_bad_quality(\"x\", \"aaccttgg\", [8, 7, 7, 6, 6, 5, 5, 4], score=20), False)\n",
    "assert_equal(remove_bad_quality(\"x\", \"aaccttgg\", [8, 7, 7, 6, 6, 5, 5, 4], score=5), True)"
   ]
  },
  {
   "cell_type": "code",
   "execution_count": 7,
   "metadata": {
    "nbgrader": {
     "grade": false,
     "grade_id": "b46228",
     "locked": false,
     "schema_version": 3,
     "solution": true,
     "task": false
    }
   },
   "outputs": [],
   "source": [
    "def trim_bad_quality_ends(read_id, sequence, quality, score=20):\n",
    "    \"\"\"\n",
    "    Trim a read from the 3' end (the tail end, not the start). If the quality of the end most base is below `score`, then remove it. Continue removing bases until the quality of that base is ABOVE score.\n",
    "    \n",
    "    \n",
    "    read_id: string with the read ID\n",
    "    sequence: DNA sequence\n",
    "    quality: list of ints, with the quality score of each base.\n",
    "    score: bases averaging below this score, should be removed\n",
    "       \n",
    "    returns: [read_id, trimmed_sequence, trimmed_quality]\n",
    "    \"\"\"\n",
    "    ### BEGIN SOLUTION\n",
    "    # Put correct code here.  This code is removed for the student version, but is used\n",
    "    # to confirm that your tests are valid.\n",
    "    rev_q = quality[::-1]\n",
    "    rev_s = sequence[::-1]\n",
    "    for idx, q in enumerate(rev_q):\n",
    "        if q <= score:\n",
    "            continue\n",
    "        else:\n",
    "            break\n",
    "    new_q = rev_q[idx:][::-1]\n",
    "    new_s = rev_s[idx:][::-1]\n",
    "    return [read_id, new_s, new_q]\n",
    "    ### END SOLUTION"
   ]
  },
  {
   "cell_type": "code",
   "execution_count": 8,
   "metadata": {
    "editable": false,
    "nbgrader": {
     "grade": true,
     "grade_id": "31bd02",
     "locked": true,
     "points": 1,
     "schema_version": 3,
     "solution": false,
     "task": false
    }
   },
   "outputs": [],
   "source": [
    "from nose.tools import assert_equal\n",
    "assert_equal(trim_bad_quality_ends(\"x\", \"aaccttgg\", [8, 7, 7, 6, 6, 5, 5, 4], score=5), ['x', 'aacct', [8, 7, 7, 6, 6]])\n",
    "assert_equal(trim_bad_quality_ends(\"x\", \"aaccttgg\", [8, 7, 7, 6, 6, 5, 5, 4], score=4), ['x', 'aaccttg', [8, 7, 7, 6, 6, 5, 5]])\n",
    "assert_equal(trim_bad_quality_ends(\"x\", \"aaccttgg\", [8, 7, 4, 6, 6, 5, 5, 4], score=4), ['x', 'aaccttg', [8, 7, 4, 6, 6, 5, 5]])\n"
   ]
  },
  {
   "cell_type": "code",
   "execution_count": 9,
   "metadata": {
    "nbgrader": {
     "grade": false,
     "grade_id": "e7bcb3",
     "locked": false,
     "schema_version": 3,
     "solution": true,
     "task": false
    }
   },
   "outputs": [
    {
     "name": "stdout",
     "output_type": "stream",
     "text": [
      "here is your sequence: GTGCCAGCCGCCGCGGTAGTCCGACGTGGCTGTCTCTTATACACATCTCCGAGCCCACGAGACCGAAGAACATCTCGTATGCCGTCTTCTGCTTGAAAAAAAAAAAAAAAAAAAACAAAAAAAAAAAAAGAAGCAAATGACGATTCAAGAAAGAAAAAAACACAGAATACTAACAATAAGTCATAAACATCATCAACATAAAAAAGGAAATACACTTACAACACATATCAATATCTAAAATAAATGATCAGCACACAACATGACGATTACCACACATGTGTACTACAAGTCAACTA and here is your quality GGGGGGGGGGGGGGGGGGGGGGGGGGGGGGGGGGGGGGGGGGGGGGGGGGGGGGGGGGGGGFGGGFGGGGGGAFFGGFGGGGGGGGFGGGGGGGGGGGGGGFGGG+38+35*311*6,,31=******441+++0+0++0+*1*2++2++0*+*2*02*/***1*+++0+0++38++00++++++++++0+0+2++*+*+*+*+*****+0**+0**+***+)*.***1**//*)***)/)*)))*)))*),)0(((-((((-.(4(,,))).,(())))))).)))))))-))-(, and oeps I don't know if this is your identifier but you can eyeballscan: M00970:337:000000000-BR5KF:1:1102:17745:1557 1:N:0:CGCAGAAC+ACAGAGTT\n",
      "here is your sequence: GTGCCAGCAGCCGCGGTAATACGTAGGTGGCAAGCGTTGTCCGGAATTATTGGGCGTAAAGCGCGCGCAGGCGGATAGGTCAGTCTGTCTTAAAAGTTCGGGGCTTAACCCCGTGATGGGATGGAAACTGCCAATCTAGAGTATCGGAGAGGAAAGTGGAATTCCTAGTGTAGCGGTGAAATGCGTAGATATTAGGAAGAACACCAGTGGCGAAGGCGACTTTCTGGACGAAAACTGACGCTGAGGCGCGAAAGCCAGGGGAGCGAACGGGATTAGATACCCGGTAGTCCGCCGTG and here is your quality GGGGGGGGGGGGGGGGGGGGGFFGGGGGGGGGGGGGGGGGGGFGGGGGGGGGGGGGGGGGGFFGEBFGGGGFFCFGGGGGGFGGGGGGGGGGGGGGGGGGGGGGGGGGGFGGGGGG=FGGG8FFGGFFGGGGGGGGGGGGGGGGGGGGGGGGGGGGGGGG9<EFGGGGGGGGGGGGGGFGGGGGGEEGGFCFD;EGGFDFGGGGEGGCF?DGDGDGG>D3CFFFGFDFG37D:?FFFFBBBBF:;>>>B;:(4<BFF>,7767990:F29(3?A)--)44-79B<5<?(4;;F, and oeps I don't know if this is your identifier but you can eyeballscan: M00970:337:000000000-BR5KF:1:1102:23974:2015 1:N:0:CGAAGAAC+ACAGAGGT\n"
     ]
    }
   ],
   "source": [
    "def parseFastqFile(path_to_file):\n",
    "    \"\"\"\n",
    "    Parse a FASTQ file into an appropriate data structure.\n",
    "    \n",
    "    The specific data structure used is up to you (it will matter when you implement the \"trim\" step)\n",
    "    but we can recommend parsing it into something like:\n",
    "    \n",
    "    [\n",
    "        [\"@read_id1\", \"ACTG\", \"+\", [40, 40, 39, 27]],\n",
    "        [\"@read_id2\", \"ACTG\", \"+\", [40, 38, 31, 29]]\n",
    "    ]\n",
    "    \n",
    "    i.e. a list of lists, where every child list is the four parts of a read, and\n",
    "    the phred quality score is decoded properly (Tip: copy and paste from the last assignment)\n",
    "    \n",
    "    path_to_file: A string pointing to a path on disk that you can open\n",
    "    \"\"\"\n",
    "    ### BEGIN SOLUTION\n",
    "    # Put correct code here.  This code is removed for the student version, but is used\n",
    "    # to confirm that your tests are valid.\n",
    "    reads = []\n",
    "    with open(path_to_file, 'r') as handle:\n",
    "\n",
    "        all_lines = handle.readlines()\n",
    "        texts =  handle.read()\n",
    "        print(texts)\n",
    "        for i in range(0, len(all_lines), 4):\n",
    "            read = [\n",
    "                all_lines[i].strip(),\n",
    "                all_lines[i+1].strip(),\n",
    "                all_lines[i+2].strip(),\n",
    "                [ord(x) - 33 for x in all_lines[i+3].strip()]\n",
    "            ]\n",
    "            reads.append(read)\n",
    "    return reads\n",
    "    ### END SOLUTION\n"
   ]
  },
  {
   "cell_type": "code",
   "execution_count": 10,
   "metadata": {
    "nbgrader": {
     "grade": false,
     "grade_id": "7b8669",
     "locked": true,
     "schema_version": 3,
     "solution": false,
     "task": false
    }
   },
   "outputs": [],
   "source": [
    "# Download the file\n",
    "# You should run this cell :)\n",
    "import os\n",
    "import urllib.request\n",
    "\n",
    "if not os.path.exists(\"example.fastq\"):\n",
    "    urllib.request.urlretrieve(\"https://gist.githubusercontent.com/hexylena/7d249607f8f763301f06c78a48c3bf6f/raw/a100e278cee1c94035a3a644b16863deee0ba2c0/example.fastq\", \"example.fastq\")"
   ]
  },
  {
   "cell_type": "code",
   "execution_count": 11,
   "metadata": {
    "nbgrader": {
     "grade": false,
     "grade_id": "c9f16c",
     "locked": false,
     "schema_version": 3,
     "solution": true,
     "task": false
    }
   },
   "outputs": [],
   "source": [
    "def trim(input_path, output_path, too_short=50, min_overall_quality=25, trim_bad_ends=20):\n",
    "    \"\"\"\n",
    "    Trim a set of reads.\n",
    "    \n",
    "    This should occur in three phases:\n",
    "    - (read in file)\n",
    "    - trim bad ends\n",
    "    - then drop ones that have overall too low quality\n",
    "    - lastly drop the ones that are too short.\n",
    "    - (write out final file)\n",
    "    \n",
    "    Record how many reads you have after each step in an array. Be sure to also include the starting count.\n",
    "    \n",
    "    input_path: Path to a fastq file that should be read in via parseFastqFile\n",
    "    output_path: Path where you should write out the final fastq file. (It will be checked.)\n",
    "    reads: provided list of lists, where every item in the list has 4 elements [read_id, sequence, '+', list-of-quality-scores]\n",
    "    trim_bad_ends: integer score to use with your trim_bad_quality_ends function.\n",
    "    min_overall_quality: integer score to use with your remove_bad_quality function\n",
    "    too_short: drop any reads shorter than this length. Do this LAST.\n",
    "    \n",
    "    returns: [the final set of reads, the number of reads dropped at each step]\n",
    "    \"\"\"\n",
    "    \n",
    "    reads = parseFastqFile(\"example.fastq\")\n",
    "    # Now the rest is up to you!\n",
    "    \n",
    "    ### BEGIN SOLUTION\n",
    "    # Put correct code here.  This code is removed for the student version, but is used\n",
    "    # to confirm that your tests are valid.\n",
    "    counts = [len(reads)]\n",
    "    \n",
    "    # Remove the +\n",
    "    reads = [[read[0], read[1], read[3]] for read in reads]\n",
    "\n",
    "    # Trim from the end.\n",
    "    reads = [trim_bad_quality_ends(*read, score=trim_bad_ends) for read in reads]\n",
    "    counts.append(len(reads))\n",
    "    \n",
    "    reads = [read for read in reads if remove_bad_quality(*read, score=min_overall_quality)]\n",
    "    counts.append(len(reads))\n",
    "    \n",
    "    reads = [read for read in reads if remove_too_short(*read, length=too_short)]\n",
    "    counts.append(len(reads))\n",
    "    \n",
    "    with open(output_path, 'w') as handle:\n",
    "        for read in reads:\n",
    "            handle.write(read[0] + \"\\n\")\n",
    "            handle.write(read[1] + \"\\n\")\n",
    "            handle.write(\"+\\n\")\n",
    "            handle.write(\"\".join([chr(x + 33) for x in read[2]]) + \"\\n\")\n",
    "    \n",
    "    return counts\n",
    "    ### END SOLUTION"
   ]
  },
  {
   "cell_type": "code",
   "execution_count": 12,
   "metadata": {
    "editable": false,
    "nbgrader": {
     "grade": true,
     "grade_id": "b6a00c",
     "locked": true,
     "points": 1,
     "schema_version": 3,
     "solution": false,
     "task": false
    }
   },
   "outputs": [
    {
     "name": "stdout",
     "output_type": "stream",
     "text": [
      "\n"
     ]
    },
    {
     "ename": "AssertionError",
     "evalue": "0 != 148",
     "output_type": "error",
     "traceback": [
      "\u001b[0;31m---------------------------------------------------------------------------\u001b[0m",
      "\u001b[0;31mAssertionError\u001b[0m                            Traceback (most recent call last)",
      "\u001b[0;32m<ipython-input-12-32b4b390078f>\u001b[0m in \u001b[0;36m<module>\u001b[0;34m\u001b[0m\n\u001b[1;32m      7\u001b[0m \u001b[0;32mfrom\u001b[0m \u001b[0mnose\u001b[0m\u001b[0;34m.\u001b[0m\u001b[0mtools\u001b[0m \u001b[0;32mimport\u001b[0m \u001b[0massert_equal\u001b[0m\u001b[0;34m\u001b[0m\u001b[0;34m\u001b[0m\u001b[0m\n\u001b[1;32m      8\u001b[0m \u001b[0massert_equal\u001b[0m\u001b[0;34m(\u001b[0m\u001b[0mtrim\u001b[0m\u001b[0;34m(\u001b[0m\u001b[0;34m\"example.fastq\"\u001b[0m\u001b[0;34m,\u001b[0m \u001b[0;34m\"example-trimmed.fastq\"\u001b[0m\u001b[0;34m)\u001b[0m\u001b[0;34m,\u001b[0m \u001b[0;34m[\u001b[0m\u001b[0;36m250\u001b[0m\u001b[0;34m,\u001b[0m \u001b[0;36m250\u001b[0m\u001b[0;34m,\u001b[0m \u001b[0;36m148\u001b[0m\u001b[0;34m,\u001b[0m \u001b[0;36m148\u001b[0m\u001b[0;34m]\u001b[0m\u001b[0;34m)\u001b[0m\u001b[0;34m\u001b[0m\u001b[0;34m\u001b[0m\u001b[0m\n\u001b[0;32m----> 9\u001b[0;31m \u001b[0massert_equal\u001b[0m\u001b[0;34m(\u001b[0m\u001b[0massertFastqReadCount\u001b[0m\u001b[0;34m(\u001b[0m\u001b[0;34m\"example-trimmed.fastq\"\u001b[0m\u001b[0;34m)\u001b[0m\u001b[0;34m,\u001b[0m \u001b[0;36m148\u001b[0m\u001b[0;34m)\u001b[0m\u001b[0;34m\u001b[0m\u001b[0;34m\u001b[0m\u001b[0m\n\u001b[0m\u001b[1;32m     10\u001b[0m \u001b[0;34m\u001b[0m\u001b[0m\n\u001b[1;32m     11\u001b[0m \u001b[0massert_equal\u001b[0m\u001b[0;34m(\u001b[0m\u001b[0mtrim\u001b[0m\u001b[0;34m(\u001b[0m\u001b[0;34m\"example.fastq\"\u001b[0m\u001b[0;34m,\u001b[0m \u001b[0;34m\"example-trimmed.fastq\"\u001b[0m\u001b[0;34m,\u001b[0m \u001b[0mtrim_bad_ends\u001b[0m\u001b[0;34m=\u001b[0m\u001b[0;36m30\u001b[0m\u001b[0;34m,\u001b[0m \u001b[0mmin_overall_quality\u001b[0m\u001b[0;34m=\u001b[0m\u001b[0;36m35\u001b[0m\u001b[0;34m)\u001b[0m\u001b[0;34m,\u001b[0m \u001b[0;34m[\u001b[0m\u001b[0;36m250\u001b[0m\u001b[0;34m,\u001b[0m \u001b[0;36m250\u001b[0m\u001b[0;34m,\u001b[0m \u001b[0;36m155\u001b[0m\u001b[0;34m,\u001b[0m \u001b[0;36m155\u001b[0m\u001b[0;34m]\u001b[0m\u001b[0;34m)\u001b[0m\u001b[0;34m\u001b[0m\u001b[0;34m\u001b[0m\u001b[0m\n",
      "\u001b[0;32m/usr/lib/python3.8/unittest/case.py\u001b[0m in \u001b[0;36massertEqual\u001b[0;34m(self, first, second, msg)\u001b[0m\n\u001b[1;32m    910\u001b[0m         \"\"\"\n\u001b[1;32m    911\u001b[0m         \u001b[0massertion_func\u001b[0m \u001b[0;34m=\u001b[0m \u001b[0mself\u001b[0m\u001b[0;34m.\u001b[0m\u001b[0m_getAssertEqualityFunc\u001b[0m\u001b[0;34m(\u001b[0m\u001b[0mfirst\u001b[0m\u001b[0;34m,\u001b[0m \u001b[0msecond\u001b[0m\u001b[0;34m)\u001b[0m\u001b[0;34m\u001b[0m\u001b[0;34m\u001b[0m\u001b[0m\n\u001b[0;32m--> 912\u001b[0;31m         \u001b[0massertion_func\u001b[0m\u001b[0;34m(\u001b[0m\u001b[0mfirst\u001b[0m\u001b[0;34m,\u001b[0m \u001b[0msecond\u001b[0m\u001b[0;34m,\u001b[0m \u001b[0mmsg\u001b[0m\u001b[0;34m=\u001b[0m\u001b[0mmsg\u001b[0m\u001b[0;34m)\u001b[0m\u001b[0;34m\u001b[0m\u001b[0;34m\u001b[0m\u001b[0m\n\u001b[0m\u001b[1;32m    913\u001b[0m \u001b[0;34m\u001b[0m\u001b[0m\n\u001b[1;32m    914\u001b[0m     \u001b[0;32mdef\u001b[0m \u001b[0massertNotEqual\u001b[0m\u001b[0;34m(\u001b[0m\u001b[0mself\u001b[0m\u001b[0;34m,\u001b[0m \u001b[0mfirst\u001b[0m\u001b[0;34m,\u001b[0m \u001b[0msecond\u001b[0m\u001b[0;34m,\u001b[0m \u001b[0mmsg\u001b[0m\u001b[0;34m=\u001b[0m\u001b[0;32mNone\u001b[0m\u001b[0;34m)\u001b[0m\u001b[0;34m:\u001b[0m\u001b[0;34m\u001b[0m\u001b[0;34m\u001b[0m\u001b[0m\n",
      "\u001b[0;32m/usr/lib/python3.8/unittest/case.py\u001b[0m in \u001b[0;36m_baseAssertEqual\u001b[0;34m(self, first, second, msg)\u001b[0m\n\u001b[1;32m    903\u001b[0m             \u001b[0mstandardMsg\u001b[0m \u001b[0;34m=\u001b[0m \u001b[0;34m'%s != %s'\u001b[0m \u001b[0;34m%\u001b[0m \u001b[0m_common_shorten_repr\u001b[0m\u001b[0;34m(\u001b[0m\u001b[0mfirst\u001b[0m\u001b[0;34m,\u001b[0m \u001b[0msecond\u001b[0m\u001b[0;34m)\u001b[0m\u001b[0;34m\u001b[0m\u001b[0;34m\u001b[0m\u001b[0m\n\u001b[1;32m    904\u001b[0m             \u001b[0mmsg\u001b[0m \u001b[0;34m=\u001b[0m \u001b[0mself\u001b[0m\u001b[0;34m.\u001b[0m\u001b[0m_formatMessage\u001b[0m\u001b[0;34m(\u001b[0m\u001b[0mmsg\u001b[0m\u001b[0;34m,\u001b[0m \u001b[0mstandardMsg\u001b[0m\u001b[0;34m)\u001b[0m\u001b[0;34m\u001b[0m\u001b[0;34m\u001b[0m\u001b[0m\n\u001b[0;32m--> 905\u001b[0;31m             \u001b[0;32mraise\u001b[0m \u001b[0mself\u001b[0m\u001b[0;34m.\u001b[0m\u001b[0mfailureException\u001b[0m\u001b[0;34m(\u001b[0m\u001b[0mmsg\u001b[0m\u001b[0;34m)\u001b[0m\u001b[0;34m\u001b[0m\u001b[0;34m\u001b[0m\u001b[0m\n\u001b[0m\u001b[1;32m    906\u001b[0m \u001b[0;34m\u001b[0m\u001b[0m\n\u001b[1;32m    907\u001b[0m     \u001b[0;32mdef\u001b[0m \u001b[0massertEqual\u001b[0m\u001b[0;34m(\u001b[0m\u001b[0mself\u001b[0m\u001b[0;34m,\u001b[0m \u001b[0mfirst\u001b[0m\u001b[0;34m,\u001b[0m \u001b[0msecond\u001b[0m\u001b[0;34m,\u001b[0m \u001b[0mmsg\u001b[0m\u001b[0;34m=\u001b[0m\u001b[0;32mNone\u001b[0m\u001b[0;34m)\u001b[0m\u001b[0;34m:\u001b[0m\u001b[0;34m\u001b[0m\u001b[0;34m\u001b[0m\u001b[0m\n",
      "\u001b[0;31mAssertionError\u001b[0m: 0 != 148"
     ]
    }
   ],
   "source": [
    "import subprocess\n",
    "def assertFastqReadCount(path):\n",
    "    try:\n",
    "        return int(subprocess.check_output(['grep', '-c', '^@', 'example-trimmed.fastq']).decode('utf-8'))\n",
    "    except:\n",
    "        return 0\n",
    "\n",
    "from nose.tools import assert_equal\n",
    "assert_equal(trim(\"example.fastq\", \"example-trimmed.fastq\"), [250, 250, 148, 148])\n",
    "assert_equal(assertFastqReadCount(\"example-trimmed.fastq\"), 148)\n",
    "\n",
    "assert_equal(trim(\"example.fastq\", \"example-trimmed.fastq\", trim_bad_ends=30, min_overall_quality=35), [250, 250, 155, 155])\n",
    "assert_equal(assertFastqReadCount(\"example-trimmed.fastq\"), 155)\n",
    "\n",
    "assert_equal(trim(\"example.fastq\", \"example-trimmed.fastq\", trim_bad_ends=20, min_overall_quality=26, too_short=180), [250, 250, 136, 118])\n",
    "assert_equal(assertFastqReadCount(\"example-trimmed.fastq\"), 118)\n",
    "\n",
    "### BEGIN HIDDEN TESTS\n",
    "# students will NOT see these extra tests\n",
    "# Just re-run the same so they can't modify.\n",
    "assert_equal(trim(\"example.fastq\", \"example-trimmed.fastq\", trim_bad_ends=20, min_overall_quality=26, too_short=180), [250, 250, 136, 118])\n",
    "assert_equal(assertFastqReadCount(\"example-trimmed.fastq\"), 118)\n",
    "### END HIDDEN TESTS"
   ]
  },
  {
   "cell_type": "code",
   "execution_count": 0,
   "metadata": {},
   "outputs": [],
   "source": []
  }
 ],
 "metadata": {
  "kernelspec": {
   "display_name": "Python 3 (ipykernel)",
   "language": "python",
   "name": "python3"
  },
  "language_info": {
   "codemirror_mode": {
    "name": "ipython",
    "version": 3
   },
   "file_extension": ".py",
   "mimetype": "text/x-python",
   "name": "python",
   "nbconvert_exporter": "python",
   "pygments_lexer": "ipython3",
   "version": "3.10.6"
  }
 },
 "nbformat": 4,
 "nbformat_minor": 4
}
